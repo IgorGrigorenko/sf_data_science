{
 "cells": [
  {
   "cell_type": "markdown",
   "metadata": {},
   "source": [
    "#Игра \"Угадай число\""
   ]
  },
  {
   "cell_type": "markdown",
   "metadata": {},
   "source": [
    "##Создадим функцию, отгадывающую случайное число"
   ]
  },
  {
   "cell_type": "code",
   "execution_count": 5,
   "metadata": {},
   "outputs": [
    {
     "data": {
      "text/plain": [
       "8"
      ]
     },
     "execution_count": 5,
     "metadata": {},
     "output_type": "execute_result"
    }
   ],
   "source": [
    "import numpy as np\n",
    "# Устанавливаем минимальное и максимально число угадывания\n",
    "min = 1 \n",
    "max = 101\n",
    "\n",
    "#Создаем переменную, которая содержит случайно загаданное число\n",
    "random_number = np.random.randint(min, max)\n",
    "    \n",
    "#Создаем функцию, которая угадывает загаданное \n",
    "# числа(по умолчанию переменная \"random_number\")\n",
    "def number_guessing_function(number = random_number, min = min, max = max) -> int:\n",
    "  \n",
    "    #Создаем счетчик для количества попыток угадать\n",
    "    count = 0 \n",
    "    \n",
    "    # Создаем переменную, которая пытается угадать \n",
    "    # загаданное число путем случайных предложений\n",
    "    assumption = np.random.randint(min,max)\n",
    "    \n",
    "    #Создаем цикл, позволяющий изменять границы загадываемого числа.\n",
    "    # Тем самым уменьшаем количество попыток\n",
    "    while assumption != number:\n",
    "        if assumption > number:\n",
    "            max = assumption\n",
    "        elif assumption < number:\n",
    "            min = assumption\n",
    "        count += 1 \n",
    "        assumption = np.random.randint(min,max) \n",
    "    \n",
    "    # Необходимо, чтобы счетчик учел попытку, \n",
    "    # когда загаданное число будет равно предложенному    \n",
    "    count += 1    \n",
    "    return count\n",
    "\n",
    "#RUN\n",
    "number_guessing_function()     \n",
    "            "
   ]
  },
  {
   "cell_type": "markdown",
   "metadata": {},
   "source": [
    "##Создадим функцию, позволяющую найти среднее число угадываний за 1000 раз"
   ]
  },
  {
   "cell_type": "code",
   "execution_count": 25,
   "metadata": {},
   "outputs": [
    {
     "name": "stdout",
     "output_type": "stream",
     "text": [
      "Алгорит угадывает за 1000 попыток в среднем за 8 раз\n"
     ]
    },
    {
     "data": {
      "text/plain": [
       "8"
      ]
     },
     "execution_count": 25,
     "metadata": {},
     "output_type": "execute_result"
    }
   ],
   "source": [
    "#создаем переменную с числом необходимых испытаний\n",
    "set_number_of_attempts = 1000\n",
    "\n",
    "#Создаем функцию, которая принимаем в качестве аргумента \n",
    "# функцию, угадывающую случайное число\n",
    "def averaging_counter(number_guessing_function = number_guessing_function, set_number_of_attempts = set_number_of_attempts, max = max, min = min) -> int:\n",
    "    \n",
    "    \n",
    "    \n",
    "    number_of_attempts_sheet = [] #Создаем список с количеством попыток для каждого испытания\n",
    "    number_of_trials = 0 #Переменная, считающая количество проведенных испытаний\n",
    "    #Создаем цикл, который многократно запускает функцию угадыванию\n",
    "    while number_of_trials < set_number_of_attempts:\n",
    "        number_of_trials += 1\n",
    "        number = np.random.randint(min,max)\n",
    "        number_of_attempts_sheet.append(number_guessing_function(number))\n",
    "    #Создаем переменную с целым средним числом угадываний    \n",
    "    av = int(np.mean(number_of_attempts_sheet))\n",
    "    print(f'Алгорит угадывает за {set_number_of_attempts} попыток в среднем за {av} раз')\n",
    "    return av\n",
    "    \n",
    "averaging_counter()"
   ]
  }
 ],
 "metadata": {
  "interpreter": {
   "hash": "49aee3a7f6ac3f8751c93192e91889e522102eaf0a791b399a9c31774ad52ac6"
  },
  "kernelspec": {
   "display_name": "Python 3.10.2 ('sf')",
   "language": "python",
   "name": "python3"
  },
  "language_info": {
   "codemirror_mode": {
    "name": "ipython",
    "version": 3
   },
   "file_extension": ".py",
   "mimetype": "text/x-python",
   "name": "python",
   "nbconvert_exporter": "python",
   "pygments_lexer": "ipython3",
   "version": "3.10.2"
  },
  "orig_nbformat": 4
 },
 "nbformat": 4,
 "nbformat_minor": 2
}
