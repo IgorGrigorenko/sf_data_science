{
 "cells": [
  {
   "cell_type": "markdown",
   "metadata": {},
   "source": [
    "#Игра \"Угадай число\""
   ]
  },
  {
   "cell_type": "markdown",
   "metadata": {},
   "source": [
    "##Создадим функцию, отгадывающую случайное число"
   ]
  },
  {
   "cell_type": "code",
   "execution_count": 133,
   "metadata": {},
   "outputs": [
    {
     "name": "stdout",
     "output_type": "stream",
     "text": [
      "алгорит угадал число:1 за 1 раз\n"
     ]
    },
    {
     "data": {
      "text/plain": [
       "1"
      ]
     },
     "execution_count": 133,
     "metadata": {},
     "output_type": "execute_result"
    }
   ],
   "source": [
    "import numpy as np\n",
    "min = 1\n",
    "max = 101\n",
    "def number_guessing_function(number = 1, min = min, max = max):\n",
    "    count = 0 \n",
    "    \n",
    "    assumption = 2\n",
    "    \n",
    "    while assumption != number:\n",
    "        if assumption > number:\n",
    "            max = assumption\n",
    "        elif assumption < number:\n",
    "            min = assumption\n",
    "        count += 1\n",
    "        assumption = np.random.randint(min,max)\n",
    "        \n",
    "    if count == 0:\n",
    "        count = 1\n",
    "        \n",
    "    print(f'алгорит угадал число:{number} за {count} раз')    \n",
    "    return count\n",
    "\n",
    "\n",
    "number_guessing_function()     \n",
    "            "
   ]
  }
 ],
 "metadata": {
  "interpreter": {
   "hash": "49aee3a7f6ac3f8751c93192e91889e522102eaf0a791b399a9c31774ad52ac6"
  },
  "kernelspec": {
   "display_name": "Python 3.10.2 ('sf')",
   "language": "python",
   "name": "python3"
  },
  "language_info": {
   "codemirror_mode": {
    "name": "ipython",
    "version": 3
   },
   "file_extension": ".py",
   "mimetype": "text/x-python",
   "name": "python",
   "nbconvert_exporter": "python",
   "pygments_lexer": "ipython3",
   "version": "3.10.2"
  },
  "orig_nbformat": 4
 },
 "nbformat": 4,
 "nbformat_minor": 2
}
